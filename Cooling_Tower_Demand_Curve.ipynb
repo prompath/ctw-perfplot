{
 "cells": [
  {
   "cell_type": "markdown",
   "metadata": {
    "colab_type": "text",
    "id": "zGdSKbvab66O"
   },
   "source": [
    "[SI] kg °C Pa J/kg  \n",
    "psychrolib.GetHumRatioFromRelHum(TDryBulb, RelHum, Pressure)  \n",
    "psychrolib.GetTWetBulbFromRelHum(TDryBulb, RelHum, Pressure)  \n",
    "psychrolib.GetHumRatioFromEnthalpyAndTDryBulb(MoistAirEnthalpy, TDryBulb)  \n",
    "psychrolib.GetMoistAirEnthalpy(TDryBulb, HumRatio)"
   ]
  },
  {
   "cell_type": "markdown",
   "metadata": {
    "colab_type": "text",
    "id": "r_FTDKk4b66P"
   },
   "source": [
    "XSteam(XSteam.UNIT_SYSTEM_MKS) # m/kg/sec/°C/bar/W\n",
    "\n",
    "XSteam(XSteam.UNIT_SYSTEM_FLS) # ft/lb/sec/°F/psi/btu\n",
    "\n",
    "XSteam(XSteam.UNIT_SYSTEM_BARE) # m/kg/sec/K/MPa/W"
   ]
  },
  {
   "cell_type": "code",
   "execution_count": 1,
   "metadata": {
    "colab": {
     "base_uri": "https://localhost:8080/",
     "height": 52
    },
    "colab_type": "code",
    "id": "0JhUfO_hV9SV",
    "outputId": "db197a7e-c250-44cd-8ba9-63ae7d8d492b"
   },
   "outputs": [],
   "source": [
    "#!pip install psychrolib\n",
    "#!pip install pyXSteam"
   ]
  },
  {
   "cell_type": "code",
   "execution_count": 3,
   "metadata": {
    "colab": {},
    "colab_type": "code",
    "id": "v7slIsB4b66Q"
   },
   "outputs": [],
   "source": [
    "import matplotlib.pyplot as plt\n",
    "import numpy as np\n",
    "import psychrolib\n",
    "psychrolib.SetUnitSystem(psychrolib.SI)\n",
    "from pyXSteam.XSteam import XSteam\n",
    "steamTable = XSteam(XSteam.UNIT_SYSTEM_MKS)\n",
    "import scipy.integrate as integrate\n",
    "import pandas as pd"
   ]
  },
  {
   "cell_type": "code",
   "execution_count": 4,
   "metadata": {
    "colab": {},
    "colab_type": "code",
    "id": "_Td7AuI2b66S"
   },
   "outputs": [],
   "source": [
    "R_const = 8.314 #J/K.mol"
   ]
  },
  {
   "cell_type": "code",
   "execution_count": 5,
   "metadata": {
    "colab": {},
    "colab_type": "code",
    "id": "o6sKozaEb66U"
   },
   "outputs": [],
   "source": [
    "def quadrature(a,b):\n",
    "    val_1 = a + (0.1 * b)\n",
    "    val_2 = a + (0.4 * b)\n",
    "    val_3 = a + (0.6 * b)\n",
    "    val_4 = a + (0.9 * b)\n",
    "    c = [val_1, val_2, val_3, val_4]\n",
    "    return c"
   ]
  },
  {
   "cell_type": "code",
   "execution_count": 6,
   "metadata": {
    "colab": {},
    "colab_type": "code",
    "id": "rZu7SabPb66V"
   },
   "outputs": [],
   "source": [
    "def CwbyR(x):\n",
    "    return 8.712 + 1.25*(10**-3)*x - 0.18*(10**-6)*(x**2) #water Cp/R"
   ]
  },
  {
   "cell_type": "code",
   "execution_count": 7,
   "metadata": {
    "colab": {},
    "colab_type": "code",
    "id": "sT430RJwb66X"
   },
   "outputs": [],
   "source": [
    "def DH_Water(Ti,Tf):\n",
    "    return integrate.quad(CwbyR,Ti,Tf)[0] * R_const * (1000 / 18) #J/kg"
   ]
  },
  {
   "cell_type": "code",
   "execution_count": 8,
   "metadata": {
    "colab": {},
    "colab_type": "code",
    "id": "2WmX4iTPb66Z"
   },
   "outputs": [],
   "source": [
    "def NTUCal(a,b,c,d,e,f): #DBT,RelHum,P(Pa),T_HotWater,T_ColdWater,L/G\n",
    "    HumRatio = psychrolib.GetHumRatioFromRelHum(a, b, c)\n",
    "    Range = d - e\n",
    "    T_Water4PList = quadrature(e,Range)\n",
    "    \n",
    "    H_Water = []\n",
    "    for i in T_Water4PList:\n",
    "        H_Water.append(steamTable.h_pt(c/100000,i) * 1000) #J/kg\n",
    "        \n",
    "    H_MoistAir_Inlet = psychrolib.GetMoistAirEnthalpy(a, HumRatio) #J/kg\n",
    "    H_MoistAir_Outlet = H_MoistAir_Inlet + (f * DH_Water(e,d)) #J/kg\n",
    "    H_MoistAir_Difference = H_MoistAir_Outlet - H_MoistAir_Inlet #J/kg\n",
    "    H_Air4PList = quadrature(H_MoistAir_Inlet,H_MoistAir_Difference) #J/kg\n",
    "    \n",
    "    DH = []\n",
    "    for i in range(4):\n",
    "        DH.append(H_Water[i]-H_Air4PList[i]) #J/kg\n",
    "    \n",
    "    recipDH = []\n",
    "    for i in DH:\n",
    "        recipDH.append(1 / i)\n",
    "        \n",
    "    sumrecipDH = sum(recipDH)\n",
    "    NTU = (sumrecipDH * DH_Water(e,d))/4\n",
    "    return NTU"
   ]
  },
  {
   "cell_type": "code",
   "execution_count": 9,
   "metadata": {
    "colab": {},
    "colab_type": "code",
    "id": "d00U7-CPUJUp"
   },
   "outputs": [],
   "source": [
    "def CWList(start,stop,step):\n",
    "  App_Dict={}\n",
    "  for i in np.arange(App_Start, App_Stop+App_Step,App_Step):\n",
    "    App_Dict[\"App_{}\".format(i)]=i\n",
    "  T_ColdWater_List = []\n",
    "  for i in np.arange(App_Start, App_Stop+App_Step,App_Step):\n",
    "    T_ColdWater_List.append(App_Dict[\"App_{}\".format(i)] + T_WetBulb)\n",
    "  return T_ColdWater_List"
   ]
  },
  {
   "cell_type": "code",
   "execution_count": 10,
   "metadata": {
    "colab": {},
    "colab_type": "code",
    "id": "gdKcjcDsb66a"
   },
   "outputs": [],
   "source": [
    "'''Insert conditions'''\n",
    "T_DryBulb = 30\n",
    "RelHum = 0.86\n",
    "P_kPa = 101.325\n",
    "T_HotWater = 40\n",
    "\n",
    "App_Start = 1\n",
    "App_Stop = 10\n",
    "App_Step = 1\n",
    "\n",
    "LG_Stop = 10\n",
    "LG_Step = 0.01"
   ]
  },
  {
   "cell_type": "code",
   "execution_count": 11,
   "metadata": {
    "colab": {},
    "colab_type": "code",
    "id": "ZutSdsczb66c"
   },
   "outputs": [],
   "source": [
    "P_Pa = P_kPa * 1000\n",
    "T_WetBulb = psychrolib.GetTWetBulbFromRelHum(T_DryBulb,RelHum,P_Pa)"
   ]
  },
  {
   "cell_type": "code",
   "execution_count": 12,
   "metadata": {
    "scrolled": true
   },
   "outputs": [
    {
     "name": "stdout",
     "output_type": "stream",
     "text": [
      "27.998831810404912\n"
     ]
    }
   ],
   "source": [
    "print(T_WetBulb)"
   ]
  },
  {
   "cell_type": "code",
   "execution_count": 13,
   "metadata": {
    "colab": {},
    "colab_type": "code",
    "id": "9seG7gkBb66h"
   },
   "outputs": [],
   "source": [
    "LG_Ratio_List = []\n",
    "for i in np.arange(LG_Step, LG_Stop+LG_Step, LG_Step):\n",
    "  LG_Ratio_List.append(i)"
   ]
  },
  {
   "cell_type": "code",
   "execution_count": 14,
   "metadata": {
    "colab": {},
    "colab_type": "code",
    "id": "vSIw6H_iDBSA"
   },
   "outputs": [],
   "source": [
    "df1 = pd.DataFrame(LG_Ratio_List)"
   ]
  },
  {
   "cell_type": "code",
   "execution_count": 15,
   "metadata": {
    "colab": {},
    "colab_type": "code",
    "id": "fNVaUUg8Yk5t"
   },
   "outputs": [],
   "source": [
    "df1.columns = ['L/G']"
   ]
  },
  {
   "cell_type": "code",
   "execution_count": 16,
   "metadata": {
    "colab": {},
    "colab_type": "code",
    "id": "I1MVxeP1WNbl"
   },
   "outputs": [],
   "source": [
    "T_ColdWater_List = CWList(App_Start,App_Stop,App_Step)"
   ]
  },
  {
   "cell_type": "code",
   "execution_count": 17,
   "metadata": {
    "colab": {
     "base_uri": "https://localhost:8080/",
     "height": 347
    },
    "colab_type": "code",
    "id": "k-cBYUlDq4q6",
    "outputId": "2ed01dd0-e608-45b4-e46c-18c3023bbec0"
   },
   "outputs": [
    {
     "data": {
      "text/plain": [
       "[28.998831810404912,\n",
       " 29.998831810404912,\n",
       " 30.998831810404912,\n",
       " 31.998831810404912,\n",
       " 32.99883181040491,\n",
       " 33.99883181040491,\n",
       " 34.99883181040491,\n",
       " 35.99883181040491,\n",
       " 36.99883181040491,\n",
       " 37.99883181040491]"
      ]
     },
     "execution_count": 17,
     "metadata": {},
     "output_type": "execute_result"
    }
   ],
   "source": [
    "T_ColdWater_List"
   ]
  },
  {
   "cell_type": "code",
   "execution_count": 18,
   "metadata": {
    "colab": {},
    "colab_type": "code",
    "id": "TM5iEuXQkGku"
   },
   "outputs": [],
   "source": [
    "for i in T_ColdWater_List:\n",
    "  NTU_List = []\n",
    "\n",
    "  for j in LG_Ratio_List:\n",
    "    x = NTUCal(T_DryBulb,RelHum,P_Pa,T_HotWater,i,j)\n",
    "    \n",
    "    if x >= 0:\n",
    "        NTU_List.append(x)\n",
    "        continue\n",
    "    \n",
    "    else:\n",
    "      df2 = pd.DataFrame(NTU_List)\n",
    "      df2.columns = ['Cold Water Temp {:04.2f} °C'.format(i)]\n",
    "      df1 = pd.concat([df1, df2],axis=1)\n",
    "      break\n",
    "        \n",
    "    df2 = pd.DataFrame(NTU_List)\n",
    "    df2.columns = ['Cold Water Temp {:04.2f} °C'.format(i)]\n",
    "    df1 = pd.concat([df1, df2],axis=1)"
   ]
  },
  {
   "cell_type": "code",
   "execution_count": 19,
   "metadata": {
    "colab": {
     "base_uri": "https://localhost:8080/",
     "height": 291
    },
    "colab_type": "code",
    "id": "FYuIf846TK9q",
    "outputId": "466f25d4-d9dc-4d65-8fad-998a2fbb6376",
    "scrolled": true
   },
   "outputs": [
    {
     "data": {
      "text/html": [
       "<div>\n",
       "<style scoped>\n",
       "    .dataframe tbody tr th:only-of-type {\n",
       "        vertical-align: middle;\n",
       "    }\n",
       "\n",
       "    .dataframe tbody tr th {\n",
       "        vertical-align: top;\n",
       "    }\n",
       "\n",
       "    .dataframe thead th {\n",
       "        text-align: right;\n",
       "    }\n",
       "</style>\n",
       "<table border=\"1\" class=\"dataframe\">\n",
       "  <thead>\n",
       "    <tr style=\"text-align: right;\">\n",
       "      <th></th>\n",
       "      <th>L/G</th>\n",
       "      <th>Cold Water Temp 29.00 °C</th>\n",
       "      <th>Cold Water Temp 30.00 °C</th>\n",
       "      <th>Cold Water Temp 31.00 °C</th>\n",
       "      <th>Cold Water Temp 32.00 °C</th>\n",
       "      <th>Cold Water Temp 33.00 °C</th>\n",
       "      <th>Cold Water Temp 34.00 °C</th>\n",
       "      <th>Cold Water Temp 35.00 °C</th>\n",
       "      <th>Cold Water Temp 36.00 °C</th>\n",
       "      <th>Cold Water Temp 37.00 °C</th>\n",
       "    </tr>\n",
       "  </thead>\n",
       "  <tbody>\n",
       "    <tr>\n",
       "      <th>0</th>\n",
       "      <td>0.01</td>\n",
       "      <td>0.865280</td>\n",
       "      <td>0.745651</td>\n",
       "      <td>0.639211</td>\n",
       "      <td>0.543355</td>\n",
       "      <td>0.456174</td>\n",
       "      <td>0.376233</td>\n",
       "      <td>0.302423</td>\n",
       "      <td>0.233871</td>\n",
       "      <td>0.169880</td>\n",
       "    </tr>\n",
       "    <tr>\n",
       "      <th>1</th>\n",
       "      <td>0.02</td>\n",
       "      <td>0.868125</td>\n",
       "      <td>0.747839</td>\n",
       "      <td>0.640872</td>\n",
       "      <td>0.544590</td>\n",
       "      <td>0.457069</td>\n",
       "      <td>0.376858</td>\n",
       "      <td>0.302836</td>\n",
       "      <td>0.234124</td>\n",
       "      <td>0.170016</td>\n",
       "    </tr>\n",
       "  </tbody>\n",
       "</table>\n",
       "</div>"
      ],
      "text/plain": [
       "    L/G  Cold Water Temp 29.00 °C  Cold Water Temp 30.00 °C  \\\n",
       "0  0.01                  0.865280                  0.745651   \n",
       "1  0.02                  0.868125                  0.747839   \n",
       "\n",
       "   Cold Water Temp 31.00 °C  Cold Water Temp 32.00 °C  \\\n",
       "0                  0.639211                  0.543355   \n",
       "1                  0.640872                  0.544590   \n",
       "\n",
       "   Cold Water Temp 33.00 °C  Cold Water Temp 34.00 °C  \\\n",
       "0                  0.456174                  0.376233   \n",
       "1                  0.457069                  0.376858   \n",
       "\n",
       "   Cold Water Temp 35.00 °C  Cold Water Temp 36.00 °C  \\\n",
       "0                  0.302423                  0.233871   \n",
       "1                  0.302836                  0.234124   \n",
       "\n",
       "   Cold Water Temp 37.00 °C  \n",
       "0                  0.169880  \n",
       "1                  0.170016  "
      ]
     },
     "execution_count": 19,
     "metadata": {},
     "output_type": "execute_result"
    }
   ],
   "source": [
    "df1.head(2)"
   ]
  },
  {
   "cell_type": "code",
   "execution_count": 20,
   "metadata": {
    "scrolled": true
   },
   "outputs": [
    {
     "data": {
      "text/html": [
       "<div>\n",
       "<style scoped>\n",
       "    .dataframe tbody tr th:only-of-type {\n",
       "        vertical-align: middle;\n",
       "    }\n",
       "\n",
       "    .dataframe tbody tr th {\n",
       "        vertical-align: top;\n",
       "    }\n",
       "\n",
       "    .dataframe thead th {\n",
       "        text-align: right;\n",
       "    }\n",
       "</style>\n",
       "<table border=\"1\" class=\"dataframe\">\n",
       "  <thead>\n",
       "    <tr style=\"text-align: right;\">\n",
       "      <th></th>\n",
       "      <th>L/G</th>\n",
       "      <th>Cold Water Temp 29.00 °C</th>\n",
       "      <th>Cold Water Temp 30.00 °C</th>\n",
       "      <th>Cold Water Temp 31.00 °C</th>\n",
       "      <th>Cold Water Temp 32.00 °C</th>\n",
       "      <th>Cold Water Temp 33.00 °C</th>\n",
       "      <th>Cold Water Temp 34.00 °C</th>\n",
       "      <th>Cold Water Temp 35.00 °C</th>\n",
       "      <th>Cold Water Temp 36.00 °C</th>\n",
       "      <th>Cold Water Temp 37.00 °C</th>\n",
       "    </tr>\n",
       "  </thead>\n",
       "  <tbody>\n",
       "    <tr>\n",
       "      <th>998</th>\n",
       "      <td>9.99</td>\n",
       "      <td>NaN</td>\n",
       "      <td>NaN</td>\n",
       "      <td>NaN</td>\n",
       "      <td>NaN</td>\n",
       "      <td>NaN</td>\n",
       "      <td>NaN</td>\n",
       "      <td>NaN</td>\n",
       "      <td>NaN</td>\n",
       "      <td>NaN</td>\n",
       "    </tr>\n",
       "    <tr>\n",
       "      <th>999</th>\n",
       "      <td>10.00</td>\n",
       "      <td>NaN</td>\n",
       "      <td>NaN</td>\n",
       "      <td>NaN</td>\n",
       "      <td>NaN</td>\n",
       "      <td>NaN</td>\n",
       "      <td>NaN</td>\n",
       "      <td>NaN</td>\n",
       "      <td>NaN</td>\n",
       "      <td>NaN</td>\n",
       "    </tr>\n",
       "  </tbody>\n",
       "</table>\n",
       "</div>"
      ],
      "text/plain": [
       "       L/G  Cold Water Temp 29.00 °C  Cold Water Temp 30.00 °C  \\\n",
       "998   9.99                       NaN                       NaN   \n",
       "999  10.00                       NaN                       NaN   \n",
       "\n",
       "     Cold Water Temp 31.00 °C  Cold Water Temp 32.00 °C  \\\n",
       "998                       NaN                       NaN   \n",
       "999                       NaN                       NaN   \n",
       "\n",
       "     Cold Water Temp 33.00 °C  Cold Water Temp 34.00 °C  \\\n",
       "998                       NaN                       NaN   \n",
       "999                       NaN                       NaN   \n",
       "\n",
       "     Cold Water Temp 35.00 °C  Cold Water Temp 36.00 °C  \\\n",
       "998                       NaN                       NaN   \n",
       "999                       NaN                       NaN   \n",
       "\n",
       "     Cold Water Temp 37.00 °C  \n",
       "998                       NaN  \n",
       "999                       NaN  "
      ]
     },
     "execution_count": 20,
     "metadata": {},
     "output_type": "execute_result"
    }
   ],
   "source": [
    "df1.tail(2)"
   ]
  },
  {
   "cell_type": "code",
   "execution_count": 21,
   "metadata": {},
   "outputs": [],
   "source": [
    "df3 = pd.DataFrame()"
   ]
  },
  {
   "cell_type": "code",
   "execution_count": 22,
   "metadata": {},
   "outputs": [],
   "source": [
    "df1 = pd.concat([df1, df3],axis=1)"
   ]
  },
  {
   "cell_type": "code",
   "execution_count": 23,
   "metadata": {
    "colab": {
     "base_uri": "https://localhost:8080/",
     "height": 343
    },
    "colab_type": "code",
    "id": "lY1rl0KJLMK0",
    "outputId": "dada2253-0e63-4cf5-b9a5-dcdc224e8447",
    "scrolled": true
   },
   "outputs": [
    {
     "data": {
      "image/png": "[encoded data removed]",
      "text/plain": [
       "<Figure size 432x288 with 1 Axes>"
      ]
     },
     "metadata": {
      "needs_background": "light"
     },
     "output_type": "display_data"
    }
   ],
   "source": [
    "dfplot = df1.plot(x='L/G',logx=True,ylim=(0,5),legend=True)\n",
    "fig = dfplot.get_figure()\n",
    "fig.savefig(\"myplot.pdf\",bbox_inches='tight')"
   ]
  }
 ],
 "metadata": {
  "colab": {
   "collapsed_sections": [],
   "name": "Cooling Tower Demand Curve.ipynb",
   "provenance": []
  },
  "kernelspec": {
   "display_name": "Python 3",
   "language": "python",
   "name": "python3"
  },
  "language_info": {
   "codemirror_mode": {
    "name": "ipython",
    "version": 3
   },
   "file_extension": ".py",
   "mimetype": "text/x-python",
   "name": "python",
   "nbconvert_exporter": "python",
   "pygments_lexer": "ipython3",
   "version": "3.8.3"
  },
  "toc": {
   "base_numbering": 1,
   "nav_menu": {},
   "number_sections": true,
   "sideBar": true,
   "skip_h1_title": false,
   "title_cell": "Table of Contents",
   "title_sidebar": "Contents",
   "toc_cell": false,
   "toc_position": {},
   "toc_section_display": true,
   "toc_window_display": false
  },
  "varInspector": {
   "cols": {
    "lenName": 16,
    "lenType": 16,
    "lenVar": 40
   },
   "kernels_config": {
    "python": {
     "delete_cmd_postfix": "",
     "delete_cmd_prefix": "del ",
     "library": "var_list.py",
     "varRefreshCmd": "print(var_dic_list())"
    },
    "r": {
     "delete_cmd_postfix": ") ",
     "delete_cmd_prefix": "rm(",
     "library": "var_list.r",
     "varRefreshCmd": "cat(var_dic_list()) "
    }
   },
   "types_to_exclude": [
    "module",
    "function",
    "builtin_function_or_method",
    "instance",
    "_Feature"
   ],
   "window_display": false
  }
 },
 "nbformat": 4,
 "nbformat_minor": 1
}
